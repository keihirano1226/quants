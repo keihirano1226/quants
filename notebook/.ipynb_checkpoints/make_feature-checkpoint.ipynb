{
 "cells": [
  {
   "cell_type": "code",
   "execution_count": 1,
   "metadata": {},
   "outputs": [],
   "source": [
    "import os\n",
    "import pickle\n",
    "import sys\n",
    "import warnings\n",
    "from glob import glob\n",
    "import re\n",
    "import datetime\n",
    "import itertools\n",
    "from pyti.moving_average_convergence_divergence import moving_average_convergence_divergence as macd\n",
    "from pyti.simple_moving_average import simple_moving_average as sma\n",
    "from pyti.stochastic import percent_k as srv_k\n",
    "from pyti.stochastic import percent_d as srv_d\n",
    "from tqdm import tqdm\n",
    "import matplotlib\n",
    "import matplotlib.pyplot as plt\n",
    "from matplotlib.dates import date2num, DayLocator, DateFormatter\n",
    "#from mpl_finance import candlestick2_ohlc, volume_overlay\n",
    "import numpy as np\n",
    "import pandas as pd\n",
    "import seaborn as sns\n",
    "import sklearn\n",
    "import lightgbm"
   ]
  },
  {
   "cell_type": "code",
   "execution_count": 2,
   "metadata": {},
   "outputs": [],
   "source": [
    "dataset_dir=\"../data_dir/\""
   ]
  },
  {
   "cell_type": "code",
   "execution_count": 3,
   "metadata": {},
   "outputs": [
    {
     "name": "stdout",
     "output_type": "stream",
     "text": [
      "stock_list\n",
      "stock_price\n",
      "stock_fin\n",
      "stock_labels\n"
     ]
    }
   ],
   "source": [
    "# 読み込むファイルを定義します。\n",
    "inputs = {\n",
    "    \"stock_list\": f\"{dataset_dir}/stock_list.csv\",\n",
    "    \"stock_price\": f\"{dataset_dir}/stock_price.csv\",\n",
    "    \"stock_fin\": f\"{dataset_dir}/stock_fin.csv\",\n",
    "    # 本チュートリアルでは使用しないため、コメントアウトしています。\n",
    "    # \"stock_fin_price\": f\"{dataset_dir}/stock_fin_price.csv.gz\",\n",
    "    \"stock_labels\": f\"{dataset_dir}/stock_labels.csv\",\n",
    "}\n",
    "\n",
    "# ファイルを読み込みます\n",
    "dfs = {}\n",
    "for k, v in inputs.items():\n",
    "    print(k)\n",
    "    dfs[k] = pd.read_csv(v)\n",
    "    # DataFrameのindexを設定します。\n",
    "    if k == \"stock_price\":\n",
    "        dfs[k].loc[:, \"datetime\"] = pd.to_datetime(\n",
    "            dfs[k].loc[:, \"EndOfDayQuote Date\"]\n",
    "        )\n",
    "        dfs[k].set_index(\"datetime\", inplace=True)\n",
    "    elif k in [\"stock_fin\", \"stock_fin_price\", \"stock_labels\"]:\n",
    "        dfs[k].loc[:, \"datetime\"] = pd.to_datetime(\n",
    "            dfs[k].loc[:, \"base_date\"]\n",
    "        )\n",
    "        dfs[k].set_index(\"datetime\", inplace=True)"
   ]
  },
  {
   "cell_type": "code",
   "execution_count": null,
   "metadata": {},
   "outputs": [],
   "source": [
    "def get_features_for_predict(dfs, code, start_dt=\"2016-01-01\"):\n",
    "    \"\"\"\n",
    "    Args:\n",
    "        dfs (dict)  : dict of pd.DataFrame include stock_fin, stock_price\n",
    "        code (int)  : A local code for a listed company\n",
    "        start_dt (str): specify date range\n",
    "    Returns:\n",
    "        feature DataFrame (pd.DataFrame)\n",
    "    \"\"\"\n",
    "    # おおまかな手順の1つ目\n",
    "    # stock_finデータを読み込み\n",
    "    stock_fin = dfs[\"stock_fin\"]\n",
    "    seasons = stock_fin[\"Result_FinancialStatement ReportType\"].unique()\n",
    "    # 特定の銘柄コードのデータに絞る\n",
    "    fin_data = stock_fin[stock_fin[\"Local Code\"] == code]\n",
    "    # 特徴量の生成対象期間を指定\n",
    "    fin_data = fin_data.loc[pd.Timestamp(start_dt) - pd.offsets.BDay(n) :]\n",
    "    fin_dup = stock_fin[~stock_fin.duplicated(subset=['Local Code', 'Result_FinancialStatement ReportType',\"Result_FinancialStatement FiscalYear\"],keep='last')]\n",
    "    columns_list = [\"Result_FinancialStatement NetSales\",\"Result_FinancialStatement OrdinaryIncome\",\"Result_FinancialStatement TotalAssets\",\"Result_FinancialStatement NetAssets\"]\n",
    "    columns = stock_fin.columns\n",
    "    columns = columns.to_list()\n",
    "    periods = [10, 20, 40]\n",
    "    for column in columns_list:\n",
    "        a = \"last \"+column\n",
    "        print(a)\n",
    "        print(type(columns))\n",
    "        columns.append(a)\n",
    "    df_result = pd.DataFrame(index=[], columns=columns)\n",
    "    for season in seasons:\n",
    "        #df[\"last \"+column] = 0\n",
    "        #print(columns_list)\n",
    "        df_test = fin_dup[(fin_dup[\"Local Code\"]==code) & (din_dup[\"Result_FinancialStatement ReportType\"]==season)].copy()\n",
    "        for column in columns_list:\n",
    "            #print(columns)\n",
    "            df_test[\"last \"+column] = df_test[column]\n",
    "            df_test[\"last \"+column] = df_test[column].shift()\n",
    "        df_result = pd.concat([df_result,df_test])\n",
    "    df_result[\"NetSales_growth_rate\"] = df_result[\"Result_FinancialStatement NetSales\"] / df_result[\"last Result_FinancialStatement NetSales\"]\n",
    "    df_result[\"OrdinaryIncome_growth_rate\"] = df_result[\"Result_FinancialStatement OrdinaryIncome\"] / df_result[\"last Result_FinancialStatement OrdinaryIncome\"]\n",
    "    df_result[\"TotalAssets_growth_rate\"] = df_result[\"Result_FinancialStatement TotalAssets\"] / df_result[\"last Result_FinancialStatement TotalAssets\"]\n",
    "    df_result[\"NetAssets_growth_rate\"] = df_result[\"Result_FinancialStatement NetAssets\"] / df_result[\"last Result_FinancialStatement NetAssets\"]\n",
    "    \n",
    "    # 特徴量の作成には過去60営業日のデータを使用しているため、\n",
    "    # 予測対象日からバッファ含めて土日を除く過去90日遡った時点から特徴量を生成します\n",
    "    n = 90\n",
    "    \n",
    "    #     # fin_dataのnp.float64のデータのみを取得\n",
    "    #     fin_data = fin_data.select_dtypes(include=[\"float64\"])\n",
    "    #     # 欠損値処理\n",
    "    #     fin_feats = fin_data.fillna(0)\n",
    "\n",
    "    # おおまかな手順の2つ目\n",
    "    # stock_priceデータを読み込む\n",
    "    price = dfs[\"stock_price\"]\n",
    "    # 特定の銘柄コードのデータに絞る\n",
    "    feats
 = price[price[\"Local Code\"] == code]\n",
    "    # 終値のみに絞る\n",
    "    feats = feats
[[\"EndOfDayQuote ExchangeOfficialClose\"]]\n",
    "    # 特徴量の生成対象期間を指定\n",
    "    feats = feats.loc[pd.Timestamp(start_dt) - pd.offsets.BDay(n) :].copy()\n",
    "\n",
    "    # 終値の20営業日リターン\n",
    "    feats[\"return_1month\"] = feats[\"EndOfDayQuote ExchangeOfficialClose\"].pct_change(20)\n",
    "    # 終値の40営業日リターン\n",
    "    feats[\"return_2month\"] = feats[\"EndOfDayQuote ExchangeOfficialClose\"].pct_change(40)\n",
    "    # 終値の60営業日リターン\n",
    "    feats[\"return_3month\"] = feats[\"EndOfDayQuote ExchangeOfficialClose\"].pct_change(60)\n",
    "    # 終値の10営業日ボラティリティ\n",
    "    feats[\"volatility_0.5month\"] = (\n",
    "        np.log(feats[\"EndOfDayQuote ExchangeOfficialClose\"]).diff().rolling(10).std()\n",
    "    )\n",
    "    # 終値の20営業日ボラティリティ\n",
    "    feats[\"volatility_1month\"] = (\n",
    "        np.log(feats[\"EndOfDayQuote ExchangeOfficialClose\"]).diff().rolling(20).std()\n",
    "    )\n",
    "    # 終値の40営業日ボラティリティ\n",
    "    feats[\"volatility_2month\"] = (\n",
    "        np.log(feats[\"EndOfDayQuote ExchangeOfficialClose\"]).diff().rolling(40).std()\n",
    "    )\n",
    "    # ヒストリカル・ボラティリティ移動平均\n",
    "    for period in periods:\n",
    "        col = \"0.5month windows volatility  {} mean\".format(period)\n",
    "        feats[col] = feats[\"volatility_0.5month\"].rolling(period).mean()\n",
    "        \n",
    "    # ヒストリカル・ボラティリティ移動平均\n",
    "    for period in periods:\n",
    "        col = \"1month windows volatility  {} mean\".format(period)\n",
    "        feats[col] = feats[\"volatility_1month\"].rolling(period).mean()\n",
    "        \n",
    "    # ヒストリカル・ボラティリティ移動平均\n",
    "    for period in periods:\n",
    "        col = \"2month windows volatility  {} mean\".format(period)\n",
    "        feats
[col] = feats[\"volatility_2month\"].rolling(period).mean()\n",
    "\n",
    "    # ヒストリカル・ボラティリティ移動平均微分値\n",
    "    col = \"0.5month windows volatility  {} mean diff\".format(10)\n",
    "    feats[col] = feats[\"volatility_0.5month\"].rolling(10).mean().pct_change(10)\n",
    "\n",
    "    # ヒストリカル・ボラティリティ移動平均微分値\n",
    "    col = \"1month windows volatility  {} mean diff\".format(20)\n",
    "    feats[col] = feats[\"volatility_1month\"].rolling(20).mean().pct_change(20)\n",
    "\n",
    "    # ヒストリカル・ボラティリティ移動平均微分値\n",
    "    col = \"2month windows volatility  {} mean diff\".format(40)\n",
    "    feats[col] = feats[\"volatility_2month\"].rolling(40).mean().pct_change(40)\n",
    "    \n",
    "    macd_period = {'long' : 26, 'short' : 12}\n",
    "    sma_period  = 9\n",
    "    feats['macd'] = macd(feats['EndOfDayQuote ExchangeOfficialClose'].values.tolist(), 12, 26)\n",
    "    feats
['macd_signal'] = sma(feats
['macd'].values.tolist(), sma_period)\n",
    "    feats
[\"macd_hist\"] = feats
[\"macd\"] - feats
[\"macd_signal\"]\n",
    "    feats
[\"macd_hist_shift\"] = feats
[\"macd_hist\"].shift()\n",
    "    feats
.loc[feats
[\"macd_hist\"] < 0,\"macd_hist_signal\"] = -1\n",
    "    feats
.loc[feats
[\"macd_hist\"] > 0,\"macd_hist_signal\"] = 1\n",
    "    feats
.loc[feats
[\"macd_hist\"] == 0,\"macd_hist_signal\"] = 0\n",
    "    feats
[\"macd_cross_signal\"] = feats
[\"macd_hist\"]*feats
[\"macd_hist_shift\"]\n",
    "    feats
.loc[feats
[\"macd_cross_signal\"] <= 0, \"macd_cross_signal\"] = 0\n",
    "    feats
.loc[feats
[\"macd_cross_signal\"] > 0, \"macd_cross_signal\"] = 1\n",
    "    feats
[\"macd_cross_sign_20\"] = (1-feats
[\"macd_cross_signal\"].rolling(20).apply(cross_X))*feats
[\"macd_hist_signal\"]\n",
    "    feats
[\"macd_cross_sign_10\"] = (1-feats
[\"macd_cross_signal\"].rolling(10).apply(cross_X))*feats
[\"macd_hist_signal\"]\n",
    "    feats
[\"macd_cross_sign_5\"] = (1-feats
[\"macd_cross_signal\"].rolling(5).apply(cross_X))*feats
[\"macd_hist_signal\"]\n",
    "    #feats
.loc[feats
[\"macd_cross_sign\"] > 0, \"macd_cross_sign\"] = 1\n",
    "    mac_cols = [\"macd\",\"macd_signal\",\"macd_hist\"]\n",
    "    mac_cross_cols = [\"macd_cross_sign_20\",\"macd_cross_sign_10\"]\n",
    "    feats
[\"slow%k\"] = srv_d(feats
[\"EndOfDayQuote ExchangeOfficialClose\"].values.tolist(), 14)*100\n",
    "    feats
[\"slow%d\"] = feats
[\"slow%k\"].rolling(3).mean()\n",
    "    feats
[\"stocas_hist\"] = feats
[\"slow%k\"] - feats
[\"slow%d\"]\n",
    "    feats
[\"stocas_hist_shift\"] = feats
[\"stocas_hist\"].shift()\n",
    "    feats
[\"stocas_cross_signal\"] = feats
[\"stocas_hist\"]*feats
[\"stocas_hist_shift\"]\n",
    "    feats
.loc[feats
[\"stocas_cross_signal\"] <= 0, \"stocas_cross_signal\"] = 0\n",
    "    feats
.loc[feats
[\"stocas_cross_signal\"] > 0, \"stocas_cross_signal\"] = 1\n",
    "    feats
.loc[feats
[\"stocas_hist\"] < 0,\"stocas_hist_signal\"] = -1\n",
    "    feats
.loc[feats
[\"stocas_hist\"] > 0,\"stocas_hist_signal\"] = 1\n",
    "    feats
.loc[feats
[\"stocas_hist\"] == 0,\"stocas_hist_signal\"] = 0\n",
    "    feats
[\"stocas_huge_signal\"] = 0\n",
    "    feats
.loc[feats
[\"slow%k\"] <= 20,\"stocas_huge_signal\"] = 1\n",
    "    feats
.loc[feats
[\"slow%k\"] >= 80,\"stocas_huge_signal\"] = 1\n",
    "    # feats
[\"stocas_cross_sign_20\"] = (1-feats
[\"stocas_cross_signal\"].rolling(20).apply(cross_X))*feats
[\"stocas_hist_signal\"]*feats
[\"stocas_huge_signal\"]\n",
    "    # feats
[\"stocas_cross_sign_10\"] = (1-feats
[\"stocas_cross_signal\"].rolling(10).apply(cross_X))*feats
[\"stocas_hist_signal\"]*feats
[\"stocas_huge_signal\"]\n",
    "    feats
[\"stocas_cross_sign_5\"] = (1-feats
[\"stocas_cross_signal\"].rolling(5).apply(cross_X))*feats
[\"stocas_hist_signal\"]*feats
[\"stocas_huge_signal\"]\n",
    "    # おおまかな手順の3つ目\n",
    "    # 欠損値処理\n",
    "    feats = feats.fillna(0)\n",
    "    # 元データのカラムを削除\n",
    "    feats = feats.drop([\"EndOfDayQuote ExchangeOfficialClose\"], axis=1)\n",
    "\n",
    "    # 財務データの特徴量とマーケットデータの特徴量のインデックスを合わせる\n",
    "    feats = feats.loc[feats.index.isin(fin_feats.index)]\n",
    "    fin_feats = fin_feats.loc[fin_feats.index.isin(feats.index)]\n",
    "\n",
    "    # データを結合\n",
    "    feats = pd.concat([feats, fin_feats], axis=1).dropna()\n",
    "\n",
    "    # 欠損値処理を行います。\n",
    "    feats = feats.replace([np.inf, -np.inf], 0)\n",
    "\n",
    "    # 銘柄コードを設定\n",
    "    feats[\"code\"] = code\n",
    "\n",
    "    # 生成対象日以降の特徴量に絞る\n",
    "    feats = feats.loc[pd.Timestamp(start_dt) :]\n",
    "\n",
    "    return feats"
   ]
  }
 ],
 "metadata": {
  "kernelspec": {
   "display_name": "Python 3",
   "language": "python",
   "name": "python3"
  },
  "language_info": {
   "codemirror_mode": {
    "name": "ipython",
    "version": 3
   },
   "file_extension": ".py",
   "mimetype": "text/x-python",
   "name": "python",
   "nbconvert_exporter": "python",
   "pygments_lexer": "ipython3",
   "version": "3.7.3"
  }
 },
 "nbformat": 4,
 "nbformat_minor": 2
}
