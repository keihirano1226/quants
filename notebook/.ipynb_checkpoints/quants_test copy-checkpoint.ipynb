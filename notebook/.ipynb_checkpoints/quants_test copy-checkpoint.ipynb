{
 "cells": [
  {
   "cell_type": "code",
   "execution_count": 2,
   "metadata": {},
   "outputs": [],
   "source": [
    "import os\n",
    "import pickle\n",
    "import sys\n",
    "import warnings\n",
    "from glob import glob\n",
    "import re\n",
    "import datetime\n",
    "import itertools\n",
    "from tqdm import tqdm\n",
    "import matplotlib\n",
    "import matplotlib.pyplot as plt\n",
    "from matplotlib.dates import date2num, DayLocator, DateFormatter\n",
    "#from mpl_finance import candlestick2_ohlc, volume_overlay\n",
    "import numpy as np\n",
    "import pandas as pd\n",
    "import seaborn as sns\n",
    "import sklearn\n",
    "import lightgbm\n",
    "import talib"
   ]
  },
  {
   "cell_type": "code",
   "execution_count": 3,
   "metadata": {},
   "outputs": [],
   "source": [
    "dataset_dir=\"../data_dir/\""
   ]
  },
  {
   "cell_type": "code",
   "execution_count": 4,
   "metadata": {},
   "outputs": [
    {
     "name": "stdout",
     "output_type": "stream",
     "text": [
      "stock_list\n",
      "stock_price\n",
      "stock_fin\n",
      "stock_labels\n"
     ]
    }
   ],
   "source": [
    "# 読み込むファイルを定義します。\n",
    "inputs = {\n",
    "    \"stock_list\": f\"{dataset_dir}/stock_list.csv\",\n",
    "    \"stock_price\": f\"{dataset_dir}/stock_price.csv\",\n",
    "    \"stock_fin\": f\"{dataset_dir}/stock_fin.csv\",\n",
    "    # 本チュートリアルでは使用しないため、コメントアウトしています。\n",
    "    # \"stock_fin_price\": f\"{dataset_dir}/stock_fin_price.csv.gz\",\n",
    "    \"stock_labels\": f\"{dataset_dir}/stock_labels.csv\",\n",
    "}\n",
    "\n",
    "# ファイルを読み込みます\n",
    "dfs = {}\n",
    "for k, v in inputs.items():\n",
    "    print(k)\n",
    "    dfs[k] = pd.read_csv(v)\n",
    "    # DataFrameのindexを設定します。\n",
    "    if k == \"stock_price\":\n",
    "        dfs[k].loc[:, \"datetime\"] = pd.to_datetime(\n",
    "            dfs[k].loc[:, \"EndOfDayQuote Date\"]\n",
    "        )\n",
    "        dfs[k].set_index(\"datetime\", inplace=True)\n",
    "    elif k in [\"stock_fin\", \"stock_fin_price\", \"stock_labels\"]:\n",
    "        dfs[k].loc[:, \"datetime\"] = pd.to_datetime(\n",
    "            dfs[k].loc[:, \"base_date\"]\n",
    "        )\n",
    "        dfs[k].set_index(\"datetime\", inplace=True)"
   ]
  },
  {
   "cell_type": "code",
   "execution_count": null,
   "metadata": {
    "tags": []
   },
   "outputs": [
    {
     "name": "stderr",
     "output_type": "stream",
     "text": [
      "  0%|          | 8/18555 [00:00<04:13, 73.17it/s]"
     ]
    },
    {
     "name": "stdout",
     "output_type": "stream",
     "text": [
      "last Result_FinancialStatement NetSales\n",
      "<class 'list'>\n",
      "last Result_FinancialStatement OrdinaryIncome\n",
      "<class 'list'>\n",
      "last Result_FinancialStatement TotalAssets\n",
      "<class 'list'>\n",
      "last Result_FinancialStatement NetAssets\n",
      "<class 'list'>\n"
     ]
    },
    {
     "name": "stderr",
     "output_type": "stream",
     "text": [
      " 80%|████████  | 14851/18555 [11:37<05:04, 12.16it/s]"
     ]
    }
   ],
   "source": [
    "\n",
    "def make_growth_rate(df,columns_list):\n",
    "    codes = df[\"Local Code\"].unique()\n",
    "    seasons = df[\"Result_FinancialStatement ReportType\"].unique()\n",
    "    columns = df.columns\n",
    "    columns = columns.to_list()\n",
    "    for column in columns_list:\n",
    "        a = \"last \"+column\n",
    "        print(a)\n",
    "        print(type(columns))\n",
    "        columns.append(a)\n",
    "    df_result = pd.DataFrame(index=[], columns=columns)\n",
    "    # columns_list.append(\"base_date\")\n",
    "    # columns_list.append(\"Local Code\")\n",
    "    for code,season in tqdm(itertools.product(codes,seasons),total=len(codes)*len(seasons)):\n",
    "        #df[\"last \"+column] = 0\n",
    "        #print(columns_list)\n",
    "        df_test = df[(df[\"Local Code\"]==code) & (df[\"Result_FinancialStatement ReportType\"]==season)].copy()\n",
    "        for column in columns_list:\n",
    "            #print(columns)\n",
    "            df_test[\"last \"+column] = df_test[column]\n",
    "            df_test[\"last \"+column] = df_test[column].shift()\n",
    "            #df = pd.merge(df,df_test[[\"last \"+column,\"base_date\",\"Local Code\"]],on = [\"base_date\",\"Local Code\"],how=\"left\")\n",
    "            #df_ab, df_ac, on='a', how='left'\n",
    "        #print(df_result)\n",
    "        #print(df_test)\n",
    "        df_result = pd.concat([df_result,df_test])\n",
    "        #print(df_test)\n",
    "    return df_result\n",
    "stock_fin = dfs[\"stock_fin\"]\n",
    "stock_fin_dup = stock_fin[~stock_fin.duplicated(subset=['Local Code', 'Result_FinancialStatement ReportType',\"Result_FinancialStatement FiscalYear\"],keep='last')]\n",
    "df1 = make_growth_rate(stock_fin_dup,[\"Result_FinancialStatement NetSales\",\"Result_FinancialStatement OrdinaryIncome\",\"Result_FinancialStatement TotalAssets\",\"Result_FinancialStatement NetAssets\"])\n",
    "df1[df1[\"Local Code\"]== 9984][[\"last Result_FinancialStatement NetSales\",\"Result_FinancialStatement NetSales\",\"Result_FinancialStatement ReportType\",\"Result_FinancialStatement FiscalYear\"]]"
   ]
  },
  {
   "cell_type": "code",
   "execution_count": null,
   "metadata": {},
   "outputs": [],
   "source": [
    "df1[df1[\"Local Code\"]== 9984][[\"last Result_FinancialStatement NetSales\",\"Result_FinancialStatement NetSales\",\n",
    "                               \"Result_FinancialStatement OrdinaryIncome\", \"last Result_FinancialStatement OrdinaryIncome\",\n",
    "                               \"Result_FinancialStatement TotalAssets\", \"last Result_FinancialStatement TotalAssets\",\n",
    "                               \"Result_FinancialStatement NetAssets\", \"last Result_FinancialStatement NetAssets\",\n",
    "                               \"Result_FinancialStatement ReportType\",\"Result_FinancialStatement FiscalYear\"]]"
   ]
  },
  {
   "cell_type": "code",
   "execution_count": null,
   "metadata": {},
   "outputs": [],
   "source": [
    "#df1.to_csv(\"stock_fin_growth_rate.csv\",index = None)"
   ]
  },
  {
   "cell_type": "code",
   "execution_count": null,
   "metadata": {},
   "outputs": [],
   "source": []
  }
 ],
 "metadata": {
  "kernelspec": {
   "display_name": "Python 3",
   "language": "python",
   "name": "python3"
  },
  "language_info": {
   "codemirror_mode": {
    "name": "ipython",
    "version": 3
   },
   "file_extension": ".py",
   "mimetype": "text/x-python",
   "name": "python",
   "nbconvert_exporter": "python",
   "pygments_lexer": "ipython3",
   "version": "3.7.3"
  }
 },
 "nbformat": 4,
 "nbformat_minor": 4
}
